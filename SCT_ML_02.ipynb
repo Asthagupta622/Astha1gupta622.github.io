{
 "cells": [
  {
   "cell_type": "code",
   "execution_count": 1,
   "id": "e53b97f4",
   "metadata": {
    "_cell_guid": "b1076dfc-b9ad-4769-8c92-a6c4dae69d19",
    "_uuid": "8f2839f25d086af736a60e9eeb907d3b93b6e0e5",
    "execution": {
     "iopub.execute_input": "2024-07-18T14:35:50.374503Z",
     "iopub.status.busy": "2024-07-18T14:35:50.373791Z",
     "iopub.status.idle": "2024-07-18T14:35:51.210748Z",
     "shell.execute_reply": "2024-07-18T14:35:51.209176Z"
    },
    "papermill": {
     "duration": 0.846851,
     "end_time": "2024-07-18T14:35:51.213233",
     "exception": false,
     "start_time": "2024-07-18T14:35:50.366382",
     "status": "completed"
    },
    "tags": []
   },
   "outputs": [
    {
     "name": "stdout",
     "output_type": "stream",
     "text": [
      "/kaggle/input/customer-segmentation-tutorial-in-python/Mall_Customers.csv\n"
     ]
    }
   ],
   "source": [
    "# This Python 3 environment comes with many helpful analytics libraries installed\n",
    "# It is defined by the kaggle/python Docker image: https://github.com/kaggle/docker-python\n",
    "# For example, here's several helpful packages to load\n",
    "\n",
    "import numpy as np # linear algebra\n",
    "import pandas as pd # data processing, CSV file I/O (e.g. pd.read_csv)\n",
    "\n",
    "# Input data files are available in the read-only \"../input/\" directory\n",
    "# For example, running this (by clicking run or pressing Shift+Enter) will list all files under the input directory\n",
    "\n",
    "import os\n",
    "for dirname, _, filenames in os.walk('/kaggle/input'):\n",
    "    for filename in filenames:\n",
    "        print(os.path.join(dirname, filename))\n",
    "\n",
    "# You can write up to 20GB to the current directory (/kaggle/working/) that gets preserved as output when you create a version using \"Save & Run All\" \n",
    "# You can also write temporary files to /kaggle/temp/, but they won't be saved outside of the current session"
   ]
  },
  {
   "cell_type": "markdown",
   "id": "f731033f",
   "metadata": {
    "papermill": {
     "duration": 0.005116,
     "end_time": "2024-07-18T14:35:51.223833",
     "exception": false,
     "start_time": "2024-07-18T14:35:51.218717",
     "status": "completed"
    },
    "tags": []
   },
   "source": []
  },
  {
   "cell_type": "markdown",
   "id": "788b6ce2",
   "metadata": {
    "papermill": {
     "duration": 0.004982,
     "end_time": "2024-07-18T14:35:51.234068",
     "exception": false,
     "start_time": "2024-07-18T14:35:51.229086",
     "status": "completed"
    },
    "tags": []
   },
   "source": [
    "# Customer Segmentation using K-Means CLustering-MALL Customer Dataset"
   ]
  },
  {
   "cell_type": "code",
   "execution_count": 2,
   "id": "96f51afc",
   "metadata": {
    "execution": {
     "iopub.execute_input": "2024-07-18T14:35:51.246840Z",
     "iopub.status.busy": "2024-07-18T14:35:51.245823Z",
     "iopub.status.idle": "2024-07-18T14:35:53.009690Z",
     "shell.execute_reply": "2024-07-18T14:35:53.008510Z"
    },
    "papermill": {
     "duration": 1.772933,
     "end_time": "2024-07-18T14:35:53.012318",
     "exception": false,
     "start_time": "2024-07-18T14:35:51.239385",
     "status": "completed"
    },
    "tags": []
   },
   "outputs": [],
   "source": [
    "import numpy as np;\n",
    "import pandas as pd;\n",
    "import matplotlib.pyplot as plt\n",
    "import seaborn as sns;\n",
    "from sklearn.cluster import KMeans"
   ]
  },
  {
   "cell_type": "markdown",
   "id": "3a0181b0",
   "metadata": {
    "papermill": {
     "duration": 0.005172,
     "end_time": "2024-07-18T14:35:53.022930",
     "exception": false,
     "start_time": "2024-07-18T14:35:53.017758",
     "status": "completed"
    },
    "tags": []
   },
   "source": [
    "# Data Collection and Analysis"
   ]
  },
  {
   "cell_type": "markdown",
   "id": "6b21883e",
   "metadata": {
    "papermill": {
     "duration": 0.005005,
     "end_time": "2024-07-18T14:35:53.033182",
     "exception": false,
     "start_time": "2024-07-18T14:35:53.028177",
     "status": "completed"
    },
    "tags": []
   },
   "source": [
    "## Loading the data from Csv file to a pandas DataFrame"
   ]
  },
  {
   "cell_type": "code",
   "execution_count": 3,
   "id": "7495b4e6",
   "metadata": {
    "execution": {
     "iopub.execute_input": "2024-07-18T14:35:53.045375Z",
     "iopub.status.busy": "2024-07-18T14:35:53.044994Z",
     "iopub.status.idle": "2024-07-18T14:35:53.078348Z",
     "shell.execute_reply": "2024-07-18T14:35:53.077248Z"
    },
    "papermill": {
     "duration": 0.0423,
     "end_time": "2024-07-18T14:35:53.080787",
     "exception": false,
     "start_time": "2024-07-18T14:35:53.038487",
     "status": "completed"
    },
    "tags": []
   },
   "outputs": [
    {
     "data": {
      "text/html": [
       "<div>\n",
       "<style scoped>\n",
       "    .dataframe tbody tr th:only-of-type {\n",
       "        vertical-align: middle;\n",
       "    }\n",
       "\n",
       "    .dataframe tbody tr th {\n",
       "        vertical-align: top;\n",
       "    }\n",
       "\n",
       "    .dataframe thead th {\n",
       "        text-align: right;\n",
       "    }\n",
       "</style>\n",
       "<table border=\"1\" class=\"dataframe\">\n",
       "  <thead>\n",
       "    <tr style=\"text-align: right;\">\n",
       "      <th></th>\n",
       "      <th>CustomerID</th>\n",
       "      <th>Gender</th>\n",
       "      <th>Age</th>\n",
       "      <th>Annual Income (k$)</th>\n",
       "      <th>Spending Score (1-100)</th>\n",
       "    </tr>\n",
       "  </thead>\n",
       "  <tbody>\n",
       "    <tr>\n",
       "      <th>0</th>\n",
       "      <td>1</td>\n",
       "      <td>Male</td>\n",
       "      <td>19</td>\n",
       "      <td>15</td>\n",
       "      <td>39</td>\n",
       "    </tr>\n",
       "    <tr>\n",
       "      <th>1</th>\n",
       "      <td>2</td>\n",
       "      <td>Male</td>\n",
       "      <td>21</td>\n",
       "      <td>15</td>\n",
       "      <td>81</td>\n",
       "    </tr>\n",
       "    <tr>\n",
       "      <th>2</th>\n",
       "      <td>3</td>\n",
       "      <td>Female</td>\n",
       "      <td>20</td>\n",
       "      <td>16</td>\n",
       "      <td>6</td>\n",
       "    </tr>\n",
       "    <tr>\n",
       "      <th>3</th>\n",
       "      <td>4</td>\n",
       "      <td>Female</td>\n",
       "      <td>23</td>\n",
       "      <td>16</td>\n",
       "      <td>77</td>\n",
       "    </tr>\n",
       "    <tr>\n",
       "      <th>4</th>\n",
       "      <td>5</td>\n",
       "      <td>Female</td>\n",
       "      <td>31</td>\n",
       "      <td>17</td>\n",
       "      <td>40</td>\n",
       "    </tr>\n",
       "  </tbody>\n",
       "</table>\n",
       "</div>"
      ],
      "text/plain": [
       "   CustomerID  Gender  Age  Annual Income (k$)  Spending Score (1-100)\n",
       "0           1    Male   19                  15                      39\n",
       "1           2    Male   21                  15                      81\n",
       "2           3  Female   20                  16                       6\n",
       "3           4  Female   23                  16                      77\n",
       "4           5  Female   31                  17                      40"
      ]
     },
     "execution_count": 3,
     "metadata": {},
     "output_type": "execute_result"
    }
   ],
   "source": [
    "customerdata=pd.read_csv('/kaggle/input/customer-segmentation-tutorial-in-python/Mall_Customers.csv')\n",
    "customerdata.head()"
   ]
  },
  {
   "cell_type": "code",
   "execution_count": 4,
   "id": "fc5741a8",
   "metadata": {
    "execution": {
     "iopub.execute_input": "2024-07-18T14:35:53.093725Z",
     "iopub.status.busy": "2024-07-18T14:35:53.093298Z",
     "iopub.status.idle": "2024-07-18T14:35:53.100235Z",
     "shell.execute_reply": "2024-07-18T14:35:53.099232Z"
    },
    "papermill": {
     "duration": 0.015904,
     "end_time": "2024-07-18T14:35:53.102348",
     "exception": false,
     "start_time": "2024-07-18T14:35:53.086444",
     "status": "completed"
    },
    "tags": []
   },
   "outputs": [
    {
     "data": {
      "text/plain": [
       "(200, 5)"
      ]
     },
     "execution_count": 4,
     "metadata": {},
     "output_type": "execute_result"
    }
   ],
   "source": [
    "customerdata.shape"
   ]
  },
  {
   "cell_type": "code",
   "execution_count": 5,
   "id": "daec2faa",
   "metadata": {
    "execution": {
     "iopub.execute_input": "2024-07-18T14:35:53.115422Z",
     "iopub.status.busy": "2024-07-18T14:35:53.115001Z",
     "iopub.status.idle": "2024-07-18T14:35:53.129119Z",
     "shell.execute_reply": "2024-07-18T14:35:53.128067Z"
    },
    "papermill": {
     "duration": 0.023264,
     "end_time": "2024-07-18T14:35:53.131302",
     "exception": false,
     "start_time": "2024-07-18T14:35:53.108038",
     "status": "completed"
    },
    "tags": []
   },
   "outputs": [
    {
     "data": {
      "text/plain": [
       "<bound method DataFrame.info of      CustomerID  Gender  Age  Annual Income (k$)  Spending Score (1-100)\n",
       "0             1    Male   19                  15                      39\n",
       "1             2    Male   21                  15                      81\n",
       "2             3  Female   20                  16                       6\n",
       "3             4  Female   23                  16                      77\n",
       "4             5  Female   31                  17                      40\n",
       "..          ...     ...  ...                 ...                     ...\n",
       "195         196  Female   35                 120                      79\n",
       "196         197  Female   45                 126                      28\n",
       "197         198    Male   32                 126                      74\n",
       "198         199    Male   32                 137                      18\n",
       "199         200    Male   30                 137                      83\n",
       "\n",
       "[200 rows x 5 columns]>"
      ]
     },
     "execution_count": 5,
     "metadata": {},
     "output_type": "execute_result"
    }
   ],
   "source": [
    "customerdata.info"
   ]
  },
  {
   "cell_type": "code",
   "execution_count": 6,
   "id": "9b2deb46",
   "metadata": {
    "execution": {
     "iopub.execute_input": "2024-07-18T14:35:53.144349Z",
     "iopub.status.busy": "2024-07-18T14:35:53.143956Z",
     "iopub.status.idle": "2024-07-18T14:35:53.153861Z",
     "shell.execute_reply": "2024-07-18T14:35:53.152838Z"
    },
    "papermill": {
     "duration": 0.019176,
     "end_time": "2024-07-18T14:35:53.156259",
     "exception": false,
     "start_time": "2024-07-18T14:35:53.137083",
     "status": "completed"
    },
    "tags": []
   },
   "outputs": [
    {
     "data": {
      "text/plain": [
       "CustomerID                0\n",
       "Gender                    0\n",
       "Age                       0\n",
       "Annual Income (k$)        0\n",
       "Spending Score (1-100)    0\n",
       "dtype: int64"
      ]
     },
     "execution_count": 6,
     "metadata": {},
     "output_type": "execute_result"
    }
   ],
   "source": [
    "# checking for missing values\n",
    "customerdata.isnull().sum()"
   ]
  },
  {
   "cell_type": "markdown",
   "id": "59f4da00",
   "metadata": {
    "papermill": {
     "duration": 0.005729,
     "end_time": "2024-07-18T14:35:53.167855",
     "exception": false,
     "start_time": "2024-07-18T14:35:53.162126",
     "status": "completed"
    },
    "tags": []
   },
   "source": [
    "## Choosing the Annual Income Column and spending score  Column"
   ]
  },
  {
   "cell_type": "code",
   "execution_count": 7,
   "id": "409ee8b2",
   "metadata": {
    "execution": {
     "iopub.execute_input": "2024-07-18T14:35:53.181415Z",
     "iopub.status.busy": "2024-07-18T14:35:53.180497Z",
     "iopub.status.idle": "2024-07-18T14:35:53.188025Z",
     "shell.execute_reply": "2024-07-18T14:35:53.186985Z"
    },
    "papermill": {
     "duration": 0.01673,
     "end_time": "2024-07-18T14:35:53.190336",
     "exception": false,
     "start_time": "2024-07-18T14:35:53.173606",
     "status": "completed"
    },
    "tags": []
   },
   "outputs": [],
   "source": [
    "X=customerdata.iloc[:,[3,4]].values"
   ]
  },
  {
   "cell_type": "code",
   "execution_count": 8,
   "id": "7f1f4281",
   "metadata": {
    "execution": {
     "iopub.execute_input": "2024-07-18T14:35:53.203791Z",
     "iopub.status.busy": "2024-07-18T14:35:53.203063Z",
     "iopub.status.idle": "2024-07-18T14:35:53.209628Z",
     "shell.execute_reply": "2024-07-18T14:35:53.208735Z"
    },
    "papermill": {
     "duration": 0.016301,
     "end_time": "2024-07-18T14:35:53.212496",
     "exception": false,
     "start_time": "2024-07-18T14:35:53.196195",
     "status": "completed"
    },
    "tags": []
   },
   "outputs": [
    {
     "name": "stdout",
     "output_type": "stream",
     "text": [
      "[[ 15  39]\n",
      " [ 15  81]\n",
      " [ 16   6]\n",
      " [ 16  77]\n",
      " [ 17  40]\n",
      " [ 17  76]\n",
      " [ 18   6]\n",
      " [ 18  94]\n",
      " [ 19   3]\n",
      " [ 19  72]\n",
      " [ 19  14]\n",
      " [ 19  99]\n",
      " [ 20  15]\n",
      " [ 20  77]\n",
      " [ 20  13]\n",
      " [ 20  79]\n",
      " [ 21  35]\n",
      " [ 21  66]\n",
      " [ 23  29]\n",
      " [ 23  98]\n",
      " [ 24  35]\n",
      " [ 24  73]\n",
      " [ 25   5]\n",
      " [ 25  73]\n",
      " [ 28  14]\n",
      " [ 28  82]\n",
      " [ 28  32]\n",
      " [ 28  61]\n",
      " [ 29  31]\n",
      " [ 29  87]\n",
      " [ 30   4]\n",
      " [ 30  73]\n",
      " [ 33   4]\n",
      " [ 33  92]\n",
      " [ 33  14]\n",
      " [ 33  81]\n",
      " [ 34  17]\n",
      " [ 34  73]\n",
      " [ 37  26]\n",
      " [ 37  75]\n",
      " [ 38  35]\n",
      " [ 38  92]\n",
      " [ 39  36]\n",
      " [ 39  61]\n",
      " [ 39  28]\n",
      " [ 39  65]\n",
      " [ 40  55]\n",
      " [ 40  47]\n",
      " [ 40  42]\n",
      " [ 40  42]\n",
      " [ 42  52]\n",
      " [ 42  60]\n",
      " [ 43  54]\n",
      " [ 43  60]\n",
      " [ 43  45]\n",
      " [ 43  41]\n",
      " [ 44  50]\n",
      " [ 44  46]\n",
      " [ 46  51]\n",
      " [ 46  46]\n",
      " [ 46  56]\n",
      " [ 46  55]\n",
      " [ 47  52]\n",
      " [ 47  59]\n",
      " [ 48  51]\n",
      " [ 48  59]\n",
      " [ 48  50]\n",
      " [ 48  48]\n",
      " [ 48  59]\n",
      " [ 48  47]\n",
      " [ 49  55]\n",
      " [ 49  42]\n",
      " [ 50  49]\n",
      " [ 50  56]\n",
      " [ 54  47]\n",
      " [ 54  54]\n",
      " [ 54  53]\n",
      " [ 54  48]\n",
      " [ 54  52]\n",
      " [ 54  42]\n",
      " [ 54  51]\n",
      " [ 54  55]\n",
      " [ 54  41]\n",
      " [ 54  44]\n",
      " [ 54  57]\n",
      " [ 54  46]\n",
      " [ 57  58]\n",
      " [ 57  55]\n",
      " [ 58  60]\n",
      " [ 58  46]\n",
      " [ 59  55]\n",
      " [ 59  41]\n",
      " [ 60  49]\n",
      " [ 60  40]\n",
      " [ 60  42]\n",
      " [ 60  52]\n",
      " [ 60  47]\n",
      " [ 60  50]\n",
      " [ 61  42]\n",
      " [ 61  49]\n",
      " [ 62  41]\n",
      " [ 62  48]\n",
      " [ 62  59]\n",
      " [ 62  55]\n",
      " [ 62  56]\n",
      " [ 62  42]\n",
      " [ 63  50]\n",
      " [ 63  46]\n",
      " [ 63  43]\n",
      " [ 63  48]\n",
      " [ 63  52]\n",
      " [ 63  54]\n",
      " [ 64  42]\n",
      " [ 64  46]\n",
      " [ 65  48]\n",
      " [ 65  50]\n",
      " [ 65  43]\n",
      " [ 65  59]\n",
      " [ 67  43]\n",
      " [ 67  57]\n",
      " [ 67  56]\n",
      " [ 67  40]\n",
      " [ 69  58]\n",
      " [ 69  91]\n",
      " [ 70  29]\n",
      " [ 70  77]\n",
      " [ 71  35]\n",
      " [ 71  95]\n",
      " [ 71  11]\n",
      " [ 71  75]\n",
      " [ 71   9]\n",
      " [ 71  75]\n",
      " [ 72  34]\n",
      " [ 72  71]\n",
      " [ 73   5]\n",
      " [ 73  88]\n",
      " [ 73   7]\n",
      " [ 73  73]\n",
      " [ 74  10]\n",
      " [ 74  72]\n",
      " [ 75   5]\n",
      " [ 75  93]\n",
      " [ 76  40]\n",
      " [ 76  87]\n",
      " [ 77  12]\n",
      " [ 77  97]\n",
      " [ 77  36]\n",
      " [ 77  74]\n",
      " [ 78  22]\n",
      " [ 78  90]\n",
      " [ 78  17]\n",
      " [ 78  88]\n",
      " [ 78  20]\n",
      " [ 78  76]\n",
      " [ 78  16]\n",
      " [ 78  89]\n",
      " [ 78   1]\n",
      " [ 78  78]\n",
      " [ 78   1]\n",
      " [ 78  73]\n",
      " [ 79  35]\n",
      " [ 79  83]\n",
      " [ 81   5]\n",
      " [ 81  93]\n",
      " [ 85  26]\n",
      " [ 85  75]\n",
      " [ 86  20]\n",
      " [ 86  95]\n",
      " [ 87  27]\n",
      " [ 87  63]\n",
      " [ 87  13]\n",
      " [ 87  75]\n",
      " [ 87  10]\n",
      " [ 87  92]\n",
      " [ 88  13]\n",
      " [ 88  86]\n",
      " [ 88  15]\n",
      " [ 88  69]\n",
      " [ 93  14]\n",
      " [ 93  90]\n",
      " [ 97  32]\n",
      " [ 97  86]\n",
      " [ 98  15]\n",
      " [ 98  88]\n",
      " [ 99  39]\n",
      " [ 99  97]\n",
      " [101  24]\n",
      " [101  68]\n",
      " [103  17]\n",
      " [103  85]\n",
      " [103  23]\n",
      " [103  69]\n",
      " [113   8]\n",
      " [113  91]\n",
      " [120  16]\n",
      " [120  79]\n",
      " [126  28]\n",
      " [126  74]\n",
      " [137  18]\n",
      " [137  83]]\n"
     ]
    }
   ],
   "source": [
    "print(X)"
   ]
  },
  {
   "cell_type": "markdown",
   "id": "9db50a85",
   "metadata": {
    "papermill": {
     "duration": 0.005598,
     "end_time": "2024-07-18T14:35:53.224828",
     "exception": false,
     "start_time": "2024-07-18T14:35:53.219230",
     "status": "completed"
    },
    "tags": []
   },
   "source": [
    "# Choose the number of Clustering"
   ]
  },
  {
   "cell_type": "markdown",
   "id": "afb52dac",
   "metadata": {
    "papermill": {
     "duration": 0.00566,
     "end_time": "2024-07-18T14:35:53.236469",
     "exception": false,
     "start_time": "2024-07-18T14:35:53.230809",
     "status": "completed"
    },
    "tags": []
   },
   "source": [
    "## WCSS->Within Clusters Sum of Squares"
   ]
  },
  {
   "cell_type": "code",
   "execution_count": 9,
   "id": "422a0753",
   "metadata": {
    "execution": {
     "iopub.execute_input": "2024-07-18T14:35:53.250487Z",
     "iopub.status.busy": "2024-07-18T14:35:53.249658Z",
     "iopub.status.idle": "2024-07-18T14:35:53.459175Z",
     "shell.execute_reply": "2024-07-18T14:35:53.458269Z"
    },
    "papermill": {
     "duration": 0.219684,
     "end_time": "2024-07-18T14:35:53.462041",
     "exception": false,
     "start_time": "2024-07-18T14:35:53.242357",
     "status": "completed"
    },
    "tags": []
   },
   "outputs": [
    {
     "name": "stderr",
     "output_type": "stream",
     "text": [
      "/opt/conda/lib/python3.10/site-packages/sklearn/cluster/_kmeans.py:870: FutureWarning: The default value of `n_init` will change from 10 to 'auto' in 1.4. Set the value of `n_init` explicitly to suppress the warning\n",
      "  warnings.warn(\n",
      "/opt/conda/lib/python3.10/site-packages/sklearn/cluster/_kmeans.py:870: FutureWarning: The default value of `n_init` will change from 10 to 'auto' in 1.4. Set the value of `n_init` explicitly to suppress the warning\n",
      "  warnings.warn(\n",
      "/opt/conda/lib/python3.10/site-packages/sklearn/cluster/_kmeans.py:870: FutureWarning: The default value of `n_init` will change from 10 to 'auto' in 1.4. Set the value of `n_init` explicitly to suppress the warning\n",
      "  warnings.warn(\n",
      "/opt/conda/lib/python3.10/site-packages/sklearn/cluster/_kmeans.py:870: FutureWarning: The default value of `n_init` will change from 10 to 'auto' in 1.4. Set the value of `n_init` explicitly to suppress the warning\n",
      "  warnings.warn(\n",
      "/opt/conda/lib/python3.10/site-packages/sklearn/cluster/_kmeans.py:870: FutureWarning: The default value of `n_init` will change from 10 to 'auto' in 1.4. Set the value of `n_init` explicitly to suppress the warning\n",
      "  warnings.warn(\n",
      "/opt/conda/lib/python3.10/site-packages/sklearn/cluster/_kmeans.py:870: FutureWarning: The default value of `n_init` will change from 10 to 'auto' in 1.4. Set the value of `n_init` explicitly to suppress the warning\n",
      "  warnings.warn(\n",
      "/opt/conda/lib/python3.10/site-packages/sklearn/cluster/_kmeans.py:870: FutureWarning: The default value of `n_init` will change from 10 to 'auto' in 1.4. Set the value of `n_init` explicitly to suppress the warning\n",
      "  warnings.warn(\n",
      "/opt/conda/lib/python3.10/site-packages/sklearn/cluster/_kmeans.py:870: FutureWarning: The default value of `n_init` will change from 10 to 'auto' in 1.4. Set the value of `n_init` explicitly to suppress the warning\n",
      "  warnings.warn(\n",
      "/opt/conda/lib/python3.10/site-packages/sklearn/cluster/_kmeans.py:870: FutureWarning: The default value of `n_init` will change from 10 to 'auto' in 1.4. Set the value of `n_init` explicitly to suppress the warning\n",
      "  warnings.warn(\n",
      "/opt/conda/lib/python3.10/site-packages/sklearn/cluster/_kmeans.py:870: FutureWarning: The default value of `n_init` will change from 10 to 'auto' in 1.4. Set the value of `n_init` explicitly to suppress the warning\n",
      "  warnings.warn(\n"
     ]
    }
   ],
   "source": [
    "# finding wcss value for different number of Clusters\n",
    "wcss=[]\n",
    "for i in range(1,11):\n",
    "     kmeans=KMeans(n_clusters=i,init='k-means++',random_state=42)\n",
    "     kmeans.fit(X)\n",
    "    #  inertia gives the values of wcss for each clusters\n",
    "     wcss.append(kmeans.inertia_)"
   ]
  },
  {
   "cell_type": "code",
   "execution_count": 10,
   "id": "d4273fb0",
   "metadata": {
    "execution": {
     "iopub.execute_input": "2024-07-18T14:35:53.476518Z",
     "iopub.status.busy": "2024-07-18T14:35:53.475817Z",
     "iopub.status.idle": "2024-07-18T14:35:53.801300Z",
     "shell.execute_reply": "2024-07-18T14:35:53.800145Z"
    },
    "papermill": {
     "duration": 0.33543,
     "end_time": "2024-07-18T14:35:53.803836",
     "exception": false,
     "start_time": "2024-07-18T14:35:53.468406",
     "status": "completed"
    },
    "tags": []
   },
   "outputs": [
    {
     "data": {
      "image/png": "[encoded data removed]",
      "text/plain": [
       "<Figure size 640x480 with 1 Axes>"
      ]
     },
     "metadata": {},
     "output_type": "display_data"
    }
   ],
   "source": [
    "# plot an elbow graph\n",
    "# to identify which clusters has minimum value\n",
    "sns.set()\n",
    "plt.plot(range(1,11),wcss)\n",
    "plt.title('The Elbow Point Graph')\n",
    "plt.xlabel('Number of Clusters')\n",
    "plt.ylabel('WCSS')\n",
    "plt.show()\n",
    "# also called cut off point graph"
   ]
  },
  {
   "cell_type": "markdown",
   "id": "0e7b25ac",
   "metadata": {
    "papermill": {
     "duration": 0.006606,
     "end_time": "2024-07-18T14:35:53.817044",
     "exception": false,
     "start_time": "2024-07-18T14:35:53.810438",
     "status": "completed"
    },
    "tags": []
   },
   "source": [
    "# Optimum Number of Clusters =5"
   ]
  },
  {
   "cell_type": "markdown",
   "id": "283e9095",
   "metadata": {
    "papermill": {
     "duration": 0.006326,
     "end_time": "2024-07-18T14:35:53.830043",
     "exception": false,
     "start_time": "2024-07-18T14:35:53.823717",
     "status": "completed"
    },
    "tags": []
   },
   "source": [
    "## Training the k-means Clustering Model"
   ]
  },
  {
   "cell_type": "code",
   "execution_count": 11,
   "id": "9c6c1fa8",
   "metadata": {
    "execution": {
     "iopub.execute_input": "2024-07-18T14:35:53.845295Z",
     "iopub.status.busy": "2024-07-18T14:35:53.844489Z",
     "iopub.status.idle": "2024-07-18T14:35:53.868294Z",
     "shell.execute_reply": "2024-07-18T14:35:53.867435Z"
    },
    "papermill": {
     "duration": 0.034359,
     "end_time": "2024-07-18T14:35:53.871085",
     "exception": false,
     "start_time": "2024-07-18T14:35:53.836726",
     "status": "completed"
    },
    "tags": []
   },
   "outputs": [
    {
     "name": "stdout",
     "output_type": "stream",
     "text": [
      "[4 3 4 3 4 3 4 3 4 3 4 3 4 3 4 3 4 3 4 3 4 3 4 3 4 3 4 3 4 3 4 3 4 3 4 3 4\n",
      " 3 4 3 4 3 4 1 4 3 1 1 1 1 1 1 1 1 1 1 1 1 1 1 1 1 1 1 1 1 1 1 1 1 1 1 1 1\n",
      " 1 1 1 1 1 1 1 1 1 1 1 1 1 1 1 1 1 1 1 1 1 1 1 1 1 1 1 1 1 1 1 1 1 1 1 1 1\n",
      " 1 1 1 1 1 1 1 1 1 1 1 1 2 0 2 1 2 0 2 0 2 1 2 0 2 0 2 0 2 0 2 1 2 0 2 0 2\n",
      " 0 2 0 2 0 2 0 2 0 2 0 2 0 2 0 2 0 2 0 2 0 2 0 2 0 2 0 2 0 2 0 2 0 2 0 2 0\n",
      " 2 0 2 0 2 0 2 0 2 0 2 0 2 0 2]\n"
     ]
    },
    {
     "name": "stderr",
     "output_type": "stream",
     "text": [
      "/opt/conda/lib/python3.10/site-packages/sklearn/cluster/_kmeans.py:870: FutureWarning: The default value of `n_init` will change from 10 to 'auto' in 1.4. Set the value of `n_init` explicitly to suppress the warning\n",
      "  warnings.warn(\n"
     ]
    }
   ],
   "source": [
    "kmeans =KMeans(n_clusters=5,init='k-means++',random_state=0)\n",
    "# return a label for each Data point based on their cluster\n",
    "Y= kmeans.fit_predict(X)\n",
    "print(Y)"
   ]
  },
  {
   "cell_type": "markdown",
   "id": "2887bb59",
   "metadata": {
    "papermill": {
     "duration": 0.006483,
     "end_time": "2024-07-18T14:35:53.884465",
     "exception": false,
     "start_time": "2024-07-18T14:35:53.877982",
     "status": "completed"
    },
    "tags": []
   },
   "source": [
    "5 Clusters-0,1,2,3,4"
   ]
  },
  {
   "cell_type": "markdown",
   "id": "77ba805b",
   "metadata": {
    "papermill": {
     "duration": 0.006608,
     "end_time": "2024-07-18T14:35:53.897980",
     "exception": false,
     "start_time": "2024-07-18T14:35:53.891372",
     "status": "completed"
    },
    "tags": []
   },
   "source": [
    "# Visualizing all the clusters"
   ]
  },
  {
   "cell_type": "code",
   "execution_count": 12,
   "id": "f28a0026",
   "metadata": {
    "execution": {
     "iopub.execute_input": "2024-07-18T14:35:53.913802Z",
     "iopub.status.busy": "2024-07-18T14:35:53.913042Z",
     "iopub.status.idle": "2024-07-18T14:35:54.339696Z",
     "shell.execute_reply": "2024-07-18T14:35:54.338634Z"
    },
    "papermill": {
     "duration": 0.437256,
     "end_time": "2024-07-18T14:35:54.342021",
     "exception": false,
     "start_time": "2024-07-18T14:35:53.904765",
     "status": "completed"
    },
    "tags": []
   },
   "outputs": [
    {
     "data": {
      "image/png": "[encoded data removed]",
      "text/plain": [
       "<Figure size 900x900 with 1 Axes>"
      ]
     },
     "metadata": {},
     "output_type": "display_data"
    }
   ],
   "source": [
    "# plotting all the clusters and their centroids\n",
    "plt.figure(figsize=(9,9))\n",
    "plt.scatter(X[Y==0,0],X[Y==0,1],s=50,c='green',label='Cluster 1')\n",
    "plt.scatter(X[Y==1,0],X[Y==1,1],s=50,c='red',label='Cluster 2')\n",
    "plt.scatter(X[Y==2,0],X[Y==2,1],s=50,c='yellow',label='Cluster 3')\n",
    "plt.scatter(X[Y==3,0],X[Y==3,1],s=50,c='violet',label='Cluster 4')\n",
    "plt.scatter(X[Y==4,0],X[Y==4,1],s=50,c='orange',label='Cluster 5')\n",
    "\n",
    "# plot the centroids\n",
    "plt.scatter(kmeans.cluster_centers_[:,0],kmeans.cluster_centers_[:,1],s=100,c='cyan',label='centroids')\n",
    "plt.title('Customer Groups')\n",
    "plt.xlabel('Annual Income')\n",
    "plt.ylabel('Spending Score')\n",
    "plt.show()"
   ]
  },
  {
   "cell_type": "markdown",
   "id": "2b958c2d",
   "metadata": {
    "papermill": {
     "duration": 0.007398,
     "end_time": "2024-07-18T14:35:54.357163",
     "exception": false,
     "start_time": "2024-07-18T14:35:54.349765",
     "status": "completed"
    },
    "tags": []
   },
   "source": []
  }
 ],
 "metadata": {
  "kaggle": {
   "accelerator": "none",
   "dataSources": [
    {
     "datasetId": 42674,
     "sourceId": 74935,
     "sourceType": "datasetVersion"
    }
   ],
   "dockerImageVersionId": 30746,
   "isGpuEnabled": false,
   "isInternetEnabled": true,
   "language": "python",
   "sourceType": "notebook"
  },
  "kernelspec": {
   "display_name": "Python 3",
   "language": "python",
   "name": "python3"
  },
  "language_info": {
   "codemirror_mode": {
    "name": "ipython",
    "version": 3
   },
   "file_extension": ".py",
   "mimetype": "text/x-python",
   "name": "python",
   "nbconvert_exporter": "python",
   "pygments_lexer": "ipython3",
   "version": "3.10.13"
  },
  "papermill": {
   "default_parameters": {},
   "duration": 7.378053,
   "end_time": "2024-07-18T14:35:54.985516",
   "environment_variables": {},
   "exception": null,
   "input_path": "__notebook__.ipynb",
   "output_path": "__notebook__.ipynb",
   "parameters": {},
   "start_time": "2024-07-18T14:35:47.607463",
   "version": "2.5.0"
  }
 },
 "nbformat": 4,
 "nbformat_minor": 5
}
